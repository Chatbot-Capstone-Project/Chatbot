{
 "cells": [
  {
   "cell_type": "code",
   "execution_count": 14,
   "id": "cb261751",
   "metadata": {
    "scrolled": false
   },
   "outputs": [
    {
     "name": "stdout",
     "output_type": "stream",
     "text": [
      "Collecting langchain"
     ]
    },
    {
     "name": "stderr",
     "output_type": "stream",
     "text": [
      "\n",
      "[notice] A new release of pip is available: 23.3.1 -> 24.0\n",
      "[notice] To update, run: C:\\Users\\ssetr\\AppData\\Local\\Microsoft\\WindowsApps\\PythonSoftwareFoundation.Python.3.10_qbz5n2kfra8p0\\python.exe -m pip install --upgrade pip\n"
     ]
    },
    {
     "name": "stdout",
     "output_type": "stream",
     "text": [
      "\n",
      "  Downloading langchain-0.1.6-py3-none-any.whl.metadata (13 kB)\n",
      "Collecting PyYAML>=5.3 (from langchain)\n",
      "  Using cached PyYAML-6.0.1-cp310-cp310-win_amd64.whl.metadata (2.1 kB)\n",
      "Collecting SQLAlchemy<3,>=1.4 (from langchain)\n",
      "  Downloading SQLAlchemy-2.0.25-cp310-cp310-win_amd64.whl.metadata (9.8 kB)\n",
      "Collecting aiohttp<4.0.0,>=3.8.3 (from langchain)\n",
      "  Downloading aiohttp-3.9.3-cp310-cp310-win_amd64.whl.metadata (7.6 kB)\n",
      "Collecting async-timeout<5.0.0,>=4.0.0 (from langchain)\n",
      "  Using cached async_timeout-4.0.3-py3-none-any.whl.metadata (4.2 kB)\n",
      "Collecting dataclasses-json<0.7,>=0.5.7 (from langchain)\n",
      "  Downloading dataclasses_json-0.6.4-py3-none-any.whl.metadata (25 kB)\n",
      "Collecting jsonpatch<2.0,>=1.33 (from langchain)\n",
      "  Downloading jsonpatch-1.33-py2.py3-none-any.whl.metadata (3.0 kB)\n",
      "Collecting langchain-community<0.1,>=0.0.18 (from langchain)\n",
      "  Downloading langchain_community-0.0.19-py3-none-any.whl.metadata (7.9 kB)\n",
      "Collecting langchain-core<0.2,>=0.1.22 (from langchain)\n",
      "  Downloading langchain_core-0.1.22-py3-none-any.whl.metadata (6.0 kB)\n",
      "Collecting langsmith<0.1,>=0.0.83 (from langchain)\n",
      "  Downloading langsmith-0.0.90-py3-none-any.whl.metadata (9.9 kB)\n",
      "Requirement already satisfied: numpy<2,>=1 in c:\\users\\ssetr\\appdata\\local\\packages\\pythonsoftwarefoundation.python.3.10_qbz5n2kfra8p0\\localcache\\local-packages\\python310\\site-packages (from langchain) (1.26.1)\n",
      "Collecting pydantic<3,>=1 (from langchain)\n",
      "  Downloading pydantic-2.6.1-py3-none-any.whl.metadata (83 kB)\n",
      "     ---------------------------------------- 83.5/83.5 kB 2.4 MB/s eta 0:00:00\n",
      "Requirement already satisfied: requests<3,>=2 in c:\\users\\ssetr\\appdata\\local\\packages\\pythonsoftwarefoundation.python.3.10_qbz5n2kfra8p0\\localcache\\local-packages\\python310\\site-packages (from langchain) (2.28.1)\n",
      "Collecting tenacity<9.0.0,>=8.1.0 (from langchain)\n",
      "  Using cached tenacity-8.2.3-py3-none-any.whl.metadata (1.0 kB)\n",
      "Collecting aiosignal>=1.1.2 (from aiohttp<4.0.0,>=3.8.3->langchain)\n",
      "  Using cached aiosignal-1.3.1-py3-none-any.whl (7.6 kB)\n",
      "Requirement already satisfied: attrs>=17.3.0 in c:\\users\\ssetr\\appdata\\local\\packages\\pythonsoftwarefoundation.python.3.10_qbz5n2kfra8p0\\localcache\\local-packages\\python310\\site-packages (from aiohttp<4.0.0,>=3.8.3->langchain) (22.1.0)\n",
      "Collecting frozenlist>=1.1.1 (from aiohttp<4.0.0,>=3.8.3->langchain)\n",
      "  Downloading frozenlist-1.4.1-cp310-cp310-win_amd64.whl.metadata (12 kB)\n",
      "Collecting multidict<7.0,>=4.5 (from aiohttp<4.0.0,>=3.8.3->langchain)\n",
      "  Downloading multidict-6.0.5-cp310-cp310-win_amd64.whl.metadata (4.3 kB)\n",
      "Collecting yarl<2.0,>=1.0 (from aiohttp<4.0.0,>=3.8.3->langchain)\n",
      "  Downloading yarl-1.9.4-cp310-cp310-win_amd64.whl.metadata (32 kB)\n",
      "Collecting marshmallow<4.0.0,>=3.18.0 (from dataclasses-json<0.7,>=0.5.7->langchain)\n",
      "  Downloading marshmallow-3.20.2-py3-none-any.whl.metadata (7.5 kB)\n",
      "Collecting typing-inspect<1,>=0.4.0 (from dataclasses-json<0.7,>=0.5.7->langchain)\n",
      "  Using cached typing_inspect-0.9.0-py3-none-any.whl.metadata (1.5 kB)\n",
      "Collecting jsonpointer>=1.9 (from jsonpatch<2.0,>=1.33->langchain)\n",
      "  Downloading jsonpointer-2.4-py2.py3-none-any.whl.metadata (2.5 kB)\n",
      "Requirement already satisfied: anyio<5,>=3 in c:\\users\\ssetr\\appdata\\local\\packages\\pythonsoftwarefoundation.python.3.10_qbz5n2kfra8p0\\localcache\\local-packages\\python310\\site-packages (from langchain-core<0.2,>=0.1.22->langchain) (3.6.1)\n",
      "Collecting langsmith<0.1,>=0.0.83 (from langchain)\n",
      "  Downloading langsmith-0.0.87-py3-none-any.whl.metadata (10 kB)\n",
      "Collecting packaging<24.0,>=23.2 (from langchain-core<0.2,>=0.1.22->langchain)\n",
      "  Using cached packaging-23.2-py3-none-any.whl.metadata (3.2 kB)\n",
      "Collecting annotated-types>=0.4.0 (from pydantic<3,>=1->langchain)\n",
      "  Downloading annotated_types-0.6.0-py3-none-any.whl.metadata (12 kB)\n",
      "Collecting pydantic-core==2.16.2 (from pydantic<3,>=1->langchain)\n",
      "  Downloading pydantic_core-2.16.2-cp310-none-win_amd64.whl.metadata (6.6 kB)\n",
      "Collecting typing-extensions>=4.6.1 (from pydantic<3,>=1->langchain)\n",
      "  Downloading typing_extensions-4.9.0-py3-none-any.whl.metadata (3.0 kB)\n",
      "Requirement already satisfied: charset-normalizer<3,>=2 in c:\\users\\ssetr\\appdata\\local\\packages\\pythonsoftwarefoundation.python.3.10_qbz5n2kfra8p0\\localcache\\local-packages\\python310\\site-packages (from requests<3,>=2->langchain) (2.1.1)\n",
      "Requirement already satisfied: idna<4,>=2.5 in c:\\users\\ssetr\\appdata\\local\\packages\\pythonsoftwarefoundation.python.3.10_qbz5n2kfra8p0\\localcache\\local-packages\\python310\\site-packages (from requests<3,>=2->langchain) (3.3)\n",
      "Requirement already satisfied: urllib3<1.27,>=1.21.1 in c:\\users\\ssetr\\appdata\\local\\packages\\pythonsoftwarefoundation.python.3.10_qbz5n2kfra8p0\\localcache\\local-packages\\python310\\site-packages (from requests<3,>=2->langchain) (1.26.12)\n",
      "Requirement already satisfied: certifi>=2017.4.17 in c:\\users\\ssetr\\appdata\\local\\packages\\pythonsoftwarefoundation.python.3.10_qbz5n2kfra8p0\\localcache\\local-packages\\python310\\site-packages (from requests<3,>=2->langchain) (2022.6.15)\n",
      "Collecting greenlet!=0.4.17 (from SQLAlchemy<3,>=1.4->langchain)\n",
      "  Downloading greenlet-3.0.3-cp310-cp310-win_amd64.whl.metadata (3.9 kB)\n",
      "Requirement already satisfied: sniffio>=1.1 in c:\\users\\ssetr\\appdata\\local\\packages\\pythonsoftwarefoundation.python.3.10_qbz5n2kfra8p0\\localcache\\local-packages\\python310\\site-packages (from anyio<5,>=3->langchain-core<0.2,>=0.1.22->langchain) (1.2.0)\n",
      "Collecting mypy-extensions>=0.3.0 (from typing-inspect<1,>=0.4.0->dataclasses-json<0.7,>=0.5.7->langchain)\n",
      "  Using cached mypy_extensions-1.0.0-py3-none-any.whl (4.7 kB)\n",
      "Downloading langchain-0.1.6-py3-none-any.whl (811 kB)\n",
      "   ---------------------------------------- 811.8/811.8 kB 1.8 MB/s eta 0:00:00\n",
      "Downloading aiohttp-3.9.3-cp310-cp310-win_amd64.whl (365 kB)\n",
      "   ---------------------------------------- 365.2/365.2 kB 1.6 MB/s eta 0:00:00\n",
      "Using cached async_timeout-4.0.3-py3-none-any.whl (5.7 kB)\n",
      "Downloading dataclasses_json-0.6.4-py3-none-any.whl (28 kB)\n",
      "Downloading jsonpatch-1.33-py2.py3-none-any.whl (12 kB)\n",
      "Downloading langchain_community-0.0.19-py3-none-any.whl (1.6 MB)\n",
      "   ---------------------------------------- 1.6/1.6 MB 3.2 MB/s eta 0:00:00\n",
      "Downloading langchain_core-0.1.22-py3-none-any.whl (239 kB)\n",
      "   ---------------------------------------- 239.4/239.4 kB 3.7 MB/s eta 0:00:00\n",
      "Downloading langsmith-0.0.87-py3-none-any.whl (55 kB)\n",
      "   ---------------------------------------- 55.4/55.4 kB 2.8 MB/s eta 0:00:00\n",
      "Downloading pydantic-2.6.1-py3-none-any.whl (394 kB)\n",
      "   ---------------------------------------- 394.8/394.8 kB 4.9 MB/s eta 0:00:00\n",
      "Downloading pydantic_core-2.16.2-cp310-none-win_amd64.whl (1.9 MB)\n",
      "   ---------------------------------------- 1.9/1.9 MB 4.8 MB/s eta 0:00:00\n",
      "Using cached PyYAML-6.0.1-cp310-cp310-win_amd64.whl (145 kB)\n",
      "Downloading SQLAlchemy-2.0.25-cp310-cp310-win_amd64.whl (2.1 MB)\n",
      "   ---------------------------------------- 2.1/2.1 MB 4.9 MB/s eta 0:00:00\n",
      "Using cached tenacity-8.2.3-py3-none-any.whl (24 kB)\n",
      "Downloading annotated_types-0.6.0-py3-none-any.whl (12 kB)\n",
      "Downloading frozenlist-1.4.1-cp310-cp310-win_amd64.whl (50 kB)\n",
      "   ---------------------------------------- 50.4/50.4 kB 2.7 MB/s eta 0:00:00\n",
      "Downloading greenlet-3.0.3-cp310-cp310-win_amd64.whl (292 kB)\n",
      "   ---------------------------------------- 292.3/292.3 kB 4.6 MB/s eta 0:00:00\n",
      "Downloading jsonpointer-2.4-py2.py3-none-any.whl (7.8 kB)\n",
      "Downloading marshmallow-3.20.2-py3-none-any.whl (49 kB)\n",
      "   ---------------------------------------- 49.4/49.4 kB 2.5 MB/s eta 0:00:00\n",
      "Downloading multidict-6.0.5-cp310-cp310-win_amd64.whl (28 kB)\n",
      "Using cached packaging-23.2-py3-none-any.whl (53 kB)\n",
      "Downloading typing_extensions-4.9.0-py3-none-any.whl (32 kB)\n",
      "Using cached typing_inspect-0.9.0-py3-none-any.whl (8.8 kB)\n",
      "Downloading yarl-1.9.4-cp310-cp310-win_amd64.whl (76 kB)\n",
      "   ---------------------------------------- 76.4/76.4 kB 4.1 MB/s eta 0:00:00\n",
      "Installing collected packages: typing-extensions, tenacity, PyYAML, packaging, mypy-extensions, multidict, jsonpointer, greenlet, frozenlist, async-timeout, annotated-types, yarl, typing-inspect, SQLAlchemy, pydantic-core, marshmallow, jsonpatch, aiosignal, pydantic, dataclasses-json, aiohttp, langsmith, langchain-core, langchain-community, langchain\n",
      "  Attempting uninstall: typing-extensions\n",
      "    Found existing installation: typing_extensions 4.4.0\n",
      "    Uninstalling typing_extensions-4.4.0:\n",
      "      Successfully uninstalled typing_extensions-4.4.0\n",
      "  Attempting uninstall: packaging\n",
      "    Found existing installation: packaging 21.3\n",
      "    Uninstalling packaging-21.3:\n",
      "      Successfully uninstalled packaging-21.3\n",
      "Successfully installed PyYAML-6.0.1 SQLAlchemy-2.0.25 aiohttp-3.9.3 aiosignal-1.3.1 annotated-types-0.6.0 async-timeout-4.0.3 dataclasses-json-0.6.4 frozenlist-1.4.1 greenlet-3.0.3 jsonpatch-1.33 jsonpointer-2.4 langchain-0.1.6 langchain-community-0.0.19 langchain-core-0.1.22 langsmith-0.0.87 marshmallow-3.20.2 multidict-6.0.5 mypy-extensions-1.0.0 packaging-23.2 pydantic-2.6.1 pydantic-core-2.16.2 tenacity-8.2.3 typing-extensions-4.9.0 typing-inspect-0.9.0 yarl-1.9.4\n"
     ]
    }
   ],
   "source": [
    "!pip install langchain"
   ]
  },
  {
   "cell_type": "code",
   "execution_count": 58,
   "id": "f554da89",
   "metadata": {},
   "outputs": [
    {
     "name": "stdout",
     "output_type": "stream",
     "text": [
      "Collecting pypdf"
     ]
    },
    {
     "name": "stderr",
     "output_type": "stream",
     "text": [
      "\n",
      "[notice] A new release of pip is available: 23.3.1 -> 24.0\n",
      "[notice] To update, run: C:\\Users\\ssetr\\AppData\\Local\\Microsoft\\WindowsApps\\PythonSoftwareFoundation.Python.3.10_qbz5n2kfra8p0\\python.exe -m pip install --upgrade pip\n"
     ]
    },
    {
     "name": "stdout",
     "output_type": "stream",
     "text": [
      "\n",
      "  Downloading pypdf-4.0.1-py3-none-any.whl.metadata (7.4 kB)\n",
      "Downloading pypdf-4.0.1-py3-none-any.whl (283 kB)\n",
      "   ---------------------------------------- 284.0/284.0 kB 1.0 MB/s eta 0:00:00\n",
      "Installing collected packages: pypdf\n",
      "Successfully installed pypdf-4.0.1\n"
     ]
    }
   ],
   "source": [
    "!pip install pypdf"
   ]
  },
  {
   "cell_type": "code",
   "execution_count": 56,
   "id": "d1caec34",
   "metadata": {},
   "outputs": [],
   "source": [
    "import json\n",
    "from bs4 import BeautifulSoup\n",
    "from urllib.parse import urljoin, urlparse\n",
    "import os \n",
    "import requests\n",
    "from langchain.document_loaders.sitemap import SitemapLoader\n",
    "from langchain.document_loaders import PyPDFLoader\n",
    "from langchain.text_splitter import RecursiveCharacterTextSplitter"
   ]
  },
  {
   "cell_type": "code",
   "execution_count": 3,
   "id": "85d82412",
   "metadata": {},
   "outputs": [],
   "source": [
    "with open('url_mapping.json', 'r', encoding='utf-8') as file:\n",
    "    url_mapping = json.load(file)"
   ]
  },
  {
   "cell_type": "code",
   "execution_count": 28,
   "id": "4d78fd71",
   "metadata": {},
   "outputs": [],
   "source": [
    "def webscrap(sitemap_url = \"https://www.newhaven.edu/sitemap.xml\"):\n",
    "    response = requests.get(sitemap_url)\n",
    "    keywords = [\n",
    "        \"data-science\",\n",
    "        \"Artificial\",\n",
    "        \"intelligence\",\n",
    "        \"faq\",\n",
    "        \"tagliatela\",\n",
    "        \"international\",\n",
    "        \"immigration\",\n",
    "        \"visa\",\n",
    "        \"international-services\",\n",
    "        \"course\",\n",
    "        \"bursars\",\n",
    "        \"one-stop\",\n",
    "        \"registrar\",\n",
    "        \"career\",\n",
    "        \"technical-support\",\n",
    "        \"library\",\n",
    "        \"counseling\",\n",
    "        \"career\"\n",
    "\n",
    "    ]\n",
    "    soup = BeautifulSoup(response.content, 'xml')\n",
    "    urls = [element.text for element in soup.find_all('loc')]\n",
    "    urls = [url for url in urls if any(keyword.lower() in url.lower() for keyword in keywords)]\n",
    "    pdf_urls = [url for url in urls if url.lower().endswith('.pdf')]\n",
    "    php_urls = [url for url in urls if url.lower().endswith('.php')]\n",
    "    return pdf_urls, php_urls"
   ]
  },
  {
   "cell_type": "code",
   "execution_count": 29,
   "id": "d3735b6e",
   "metadata": {},
   "outputs": [],
   "source": [
    "def is_valid_url(url):\n",
    "    \"\"\"\n",
    "    Checks if the URL is a valid HTTP or HTTPS URL.\n",
    "    \"\"\"\n",
    "    parsed = urlparse(url)\n",
    "    return bool(parsed.netloc) and bool(parsed.scheme)"
   ]
  },
  {
   "cell_type": "code",
   "execution_count": 30,
   "id": "5caf501e",
   "metadata": {},
   "outputs": [],
   "source": [
    "def download_pdf(url, folder=\"PDFs\"):\n",
    "    \"\"\"\n",
    "    Downloads a single PDF file from a URL.\n",
    "    \"\"\"\n",
    "    if not os.path.isdir(folder):\n",
    "        os.makedirs(folder)\n",
    "\n",
    "    try:\n",
    "        response = requests.get(url, stream=True)\n",
    "        \n",
    "        if response.status_code == 200 and 'application/pdf' in response.headers.get('Content-Type', ''):\n",
    "            filename = os.path.join(folder, url.split('/')[-1] or \"downloaded_pdf.pdf\")\n",
    "\n",
    "            with open(filename, 'wb') as file:\n",
    "                file.write(response.content)\n",
    "            print(f\"Successfully downloaded {url}\")\n",
    "        else:\n",
    "            print(f\"Failed to download {url} - Response code: {response.status_code}\")\n",
    "    except Exception as e:\n",
    "        print(f\"Error downloading {url}: {e}\")"
   ]
  },
  {
   "cell_type": "code",
   "execution_count": 31,
   "id": "12fde672",
   "metadata": {},
   "outputs": [],
   "source": [
    "def loadDataFrmPhpUrls(php_urls):\n",
    "    try:\n",
    "        sitemap_loader = SitemapLoader(web_path=\"https://www.newhaven.edu/sitemap.xml\",\n",
    "                                    filter_urls=php_urls)\n",
    "        docs = sitemap_loader.load()\n",
    "        print(\"Php Data Loaded successfully\")\n",
    "    except Exception as e:\n",
    "        print(f\"An error occurred: {e}\")\n",
    "    return docs"
   ]
  },
  {
   "cell_type": "code",
   "execution_count": 65,
   "id": "6ad11d52",
   "metadata": {},
   "outputs": [],
   "source": [
    "def loadPDFData():\n",
    "    pdf_data = []\n",
    "    cwd = os.getcwd()\n",
    "    for pdf in os.listdir('PDFs'):\n",
    "        pdf_path = os.path.join(cwd, 'PDFs')\n",
    "        pdf = os.path.join(pdf_path,pdf)\n",
    "        loader = PyPDFLoader(pdf)\n",
    "        pages = loader.load_and_split()\n",
    "        for page in pages:\n",
    "            print (page.metadata['source'])\n",
    "            source = page.metadata['source'].split('\\\\')[-1]\n",
    "            print(source)\n",
    "            page.metadata['source'] = url_mapping[source]\n",
    "        pdf_data.extend(pages)\n",
    "    print(\"PDF Data Loaded successfully\")\n",
    "    return pdf_data"
   ]
  },
  {
   "cell_type": "code",
   "execution_count": 33,
   "id": "b6238278",
   "metadata": {},
   "outputs": [],
   "source": [
    "def split_data_chunks(final_data):\n",
    "    text_splitter = RecursiveCharacterTextSplitter(\n",
    "        chunk_size = 1200,\n",
    "        chunk_overlap  = 200,\n",
    "        length_function = len,\n",
    "    )\n",
    "    docs_chunks = text_splitter.split_documents(final_data)\n",
    "    print(\"Splitting Data Done Successfully\")\n",
    "    return docs_chunks"
   ]
  },
  {
   "cell_type": "code",
   "execution_count": 48,
   "id": "cda4e647",
   "metadata": {},
   "outputs": [],
   "source": [
    "\n",
    "pdf_urls,php_urls = webscrap()"
   ]
  },
  {
   "cell_type": "code",
   "execution_count": 35,
   "id": "d6d0fda0",
   "metadata": {},
   "outputs": [
    {
     "name": "stdout",
     "output_type": "stream",
     "text": [
      "PHP URLs: 216\n"
     ]
    }
   ],
   "source": [
    "print(\"PHP URLs:\",len(php_urls))"
   ]
  },
  {
   "cell_type": "code",
   "execution_count": 49,
   "id": "2a8c5305",
   "metadata": {},
   "outputs": [
    {
     "name": "stdout",
     "output_type": "stream",
     "text": [
      "PDF URLs: 158\n"
     ]
    }
   ],
   "source": [
    "print(\"PDF URLs:\",len(pdf_urls))"
   ]
  },
  {
   "cell_type": "code",
   "execution_count": 53,
   "id": "0d5035aa",
   "metadata": {},
   "outputs": [
    {
     "name": "stdout",
     "output_type": "stream",
     "text": [
      "Successfully downloaded https://www.newhaven.edu/_resources/documents/about/departments/one-stop/2019-soar-families.pdf\n",
      "Successfully downloaded https://www.newhaven.edu/_resources/documents/about/departments/one-stop/enrolling-in-direct-deposit.pdf\n",
      "Successfully downloaded https://www.newhaven.edu/_resources/documents/about/departments/one-stop/enroll-in-monthly-payment-plan.pdf\n",
      "Successfully downloaded https://www.newhaven.edu/_resources/documents/about/departments/one-stop/epay-quick-guide.pdf\n",
      "Successfully downloaded https://www.newhaven.edu/_resources/documents/about/departments/one-stop/how-to-create-authorized-payer.pdf\n",
      "Successfully downloaded https://www.newhaven.edu/_resources/documents/about/departments/one-stop/how-to-make-payment-verto-experience.pdf\n",
      "Successfully downloaded https://www.newhaven.edu/_resources/documents/about/departments/one-stop/international-booklet-faq.pdf\n",
      "Successfully downloaded https://www.newhaven.edu/_resources/documents/about/departments/one-stop/soar-presentation-parents.pdf\n",
      "Successfully downloaded https://www.newhaven.edu/_resources/documents/about/departments/one-stop/soar-webinar-2021.pdf\n",
      "Successfully downloaded https://www.newhaven.edu/_resources/documents/about/departments/one-stop/understanding-your-installment-plan.pdf\n",
      "Successfully downloaded https://www.newhaven.edu/_resources/documents/about/departments/one-stop/understanding-your-student-account.pdf\n",
      "Successfully downloaded https://www.newhaven.edu/_resources/documents/about/departments/one-stop/cares-act/cares-act-notification-12-31-20.pdf\n",
      "Successfully downloaded https://www.newhaven.edu/_resources/documents/about/departments/one-stop/cares-act/cares-act-notification.pdf\n",
      "Successfully downloaded https://www.newhaven.edu/_resources/documents/about/departments/one-stop/cares-act/cares-act-notification-student-3-31-2021.pdf\n",
      "Successfully downloaded https://www.newhaven.edu/_resources/documents/about/departments/one-stop/cares-act/cares-student-notification-03-31-2021.pdf\n",
      "Successfully downloaded https://www.newhaven.edu/_resources/documents/about/departments/one-stop/cares-act/cares-student-notification-08-15-2020.pdf\n",
      "Successfully downloaded https://www.newhaven.edu/_resources/documents/about/departments/one-stop/cares-act/cares-student-notification-09-30-2020.pdf\n",
      "Successfully downloaded https://www.newhaven.edu/_resources/documents/about/departments/one-stop/cares-act/cares-student-notification-12-31-2020.pdf\n",
      "Successfully downloaded https://www.newhaven.edu/_resources/documents/about/departments/one-stop/cares-act/heerf-budget-expenditure-report.pdf\n",
      "Successfully downloaded https://www.newhaven.edu/_resources/documents/about/departments/one-stop/cares-act/heerf-budget-report-03-31-2021.pdf\n",
      "Successfully downloaded https://www.newhaven.edu/_resources/documents/about/departments/one-stop/cares-act/heerf-budget-report-06-30-2021.pdf\n",
      "Successfully downloaded https://www.newhaven.edu/_resources/documents/about/departments/one-stop/cares-act/heerf-budget-report-09-30-2021.pdf\n",
      "Successfully downloaded https://www.newhaven.edu/_resources/documents/about/departments/one-stop/cares-act/heerf-budget-report-12-31-20.pdf\n",
      "Successfully downloaded https://www.newhaven.edu/_resources/documents/about/departments/one-stop/consolidated-student-institutional-reports/00139700_HEERF_Q3202_070122.pdf\n",
      "Successfully downloaded https://www.newhaven.edu/_resources/documents/about/departments/one-stop/consolidated-student-institutional-reports/00139700_HEERF_Q3202_100322.pdf\n",
      "Successfully downloaded https://www.newhaven.edu/_resources/documents/about/departments/one-stop/consolidated-student-institutional-reports/00139700_HEERF_Q422_111122.pdf\n",
      "Successfully downloaded https://www.newhaven.edu/_resources/documents/about/departments/one-stop/heerf-II/heerf-budget-report-03-31-2021.pdf\n",
      "Successfully downloaded https://www.newhaven.edu/_resources/documents/about/departments/one-stop/heerf-II/heerf-budget-report-06-30-2021.pdf\n",
      "Successfully downloaded https://www.newhaven.edu/_resources/documents/about/departments/one-stop/heerf-II/heerf-budget-report-09-30-2021.pdf\n",
      "Successfully downloaded https://www.newhaven.edu/_resources/documents/about/departments/one-stop/heerf-II/heerf-ii-report-03-31-2021.pdf\n",
      "Successfully downloaded https://www.newhaven.edu/_resources/documents/about/departments/one-stop/heerf-II/heerf-ii-report-06-30-2021.pdf\n",
      "Successfully downloaded https://www.newhaven.edu/_resources/documents/about/departments/one-stop/heerf-II/heerf-ii-report-09-30-2021.pdf\n",
      "Successfully downloaded https://www.newhaven.edu/_resources/documents/about/departments/one-stop/heerf-III/heerf-emergency-relief-fund-03-31-2022.pdf\n",
      "Successfully downloaded https://www.newhaven.edu/_resources/documents/about/departments/one-stop/heerf-III/heerf-emergency-relief-fund-09-31-2021.pdf\n",
      "Successfully downloaded https://www.newhaven.edu/_resources/documents/about/departments/one-stop/heerf-III/heerf-emergency-relief-fund-12-31-2021.pdf\n",
      "Successfully downloaded https://www.newhaven.edu/_resources/documents/about/departments/one-stop/heerf-reporting/heerf-reporting-03-31-2021.pdf\n",
      "Successfully downloaded https://www.newhaven.edu/_resources/documents/about/departments/one-stop/heerf-reporting/heerf-reporting-03-31-2022.pdf\n",
      "Successfully downloaded https://www.newhaven.edu/_resources/documents/about/departments/one-stop/heerf-reporting/heerf-reporting-06-30-2021.pdf\n",
      "Successfully downloaded https://www.newhaven.edu/_resources/documents/about/departments/one-stop/heerf-reporting/heerf-reporting-09-30-2020.pdf\n",
      "Successfully downloaded https://www.newhaven.edu/_resources/documents/about/departments/one-stop/heerf-reporting/heerf-reporting-09-30-2021.pdf\n",
      "Successfully downloaded https://www.newhaven.edu/_resources/documents/about/departments/one-stop/heerf-reporting/heerf-reporting-12-31-2020.pdf\n",
      "Successfully downloaded https://www.newhaven.edu/_resources/documents/about/departments/one-stop/heerf-reporting/heerf-reporting-12-31-2021.pdf\n",
      "Successfully downloaded https://www.newhaven.edu/_resources/documents/about/departments/one-stop/navigate/scheduling-one-stop-appointments.pdf\n",
      "Successfully downloaded https://www.newhaven.edu/_resources/documents/about/departments/registrar/double-baccalaureate-form.pdf\n",
      "Successfully downloaded https://www.newhaven.edu/_resources/documents/academics/bursars/1098t-tax-form-instructions.pdf\n",
      "Successfully downloaded https://www.newhaven.edu/_resources/documents/academics/bursars/address-change-form-2014.pdf\n",
      "Successfully downloaded https://www.newhaven.edu/_resources/documents/academics/bursars/charger-cash-refund.pdf\n",
      "Successfully downloaded https://www.newhaven.edu/_resources/documents/academics/bursars/delinquent-student-account-policy.pdf\n",
      "Successfully downloaded https://www.newhaven.edu/_resources/documents/academics/bursars/guidelines-prior-collection-agency-activity.pdf\n",
      "Successfully downloaded https://www.newhaven.edu/_resources/documents/academics/bursars/prior-collections-policy.pdf\n",
      "Successfully downloaded https://www.newhaven.edu/_resources/documents/academics/bursars/title-iv-form.pdf\n",
      "Successfully downloaded https://www.newhaven.edu/_resources/documents/academics/catalog/ms-data-science-catalog-2015-16.pdf\n",
      "Successfully downloaded https://www.newhaven.edu/_resources/documents/academics/catalog/ms-data-science-catalog-2016-17.pdf\n",
      "Successfully downloaded https://www.newhaven.edu/_resources/documents/academics/registrar/classes-meeting-on-spring-2021-recharge-days.pdf\n",
      "Failed to download https://www.newhaven.edu/_resources/documents/academics/registrar/diploma-replacement-form.pdf - Response code: 200\n",
      "Successfully downloaded https://www.newhaven.edu/_resources/documents/academics/registrar/minor-declaration-process.pdf\n",
      "Successfully downloaded https://www.newhaven.edu/_resources/documents/academics/registrar/minor-director-contact-list.pdf\n",
      "Successfully downloaded https://www.newhaven.edu/_resources/documents/academics/registrar/request-to-withhold-directory-info.pdf\n",
      "Successfully downloaded https://www.newhaven.edu/_resources/documents/academics/study-abroad/program-worksheets/international-business.pdf\n",
      "Successfully downloaded https://www.newhaven.edu/_resources/documents/academics/study-abroad/program-worksheets/international-dev-and-diplomacy.pdf\n"
     ]
    },
    {
     "name": "stdout",
     "output_type": "stream",
     "text": [
      "Successfully downloaded https://www.newhaven.edu/_resources/documents/academics/study-abroad/program-worksheets/international-dev-and-poli-sci.pdf\n",
      "Successfully downloaded https://www.newhaven.edu/_resources/documents/admissions/graduate/international/faq-international-students-fall-2020.pdf\n",
      "Successfully downloaded https://www.newhaven.edu/_resources/documents/admissions/graduate/international/financial-statement-of-international-students-graduate.pdf\n",
      "Successfully downloaded https://www.newhaven.edu/_resources/documents/admissions/graduate/international/graduate-international-viewbook.pdf\n",
      "Successfully downloaded https://www.newhaven.edu/_resources/documents/admissions/graduate/international/sevis-transfer.pdf\n",
      "Successfully downloaded https://www.newhaven.edu/_resources/documents/admissions/graduate/salary-data/clinical-mental-health-counseling-ma.pdf\n",
      "Successfully downloaded https://www.newhaven.edu/_resources/documents/admissions/graduate/salary-data/data-science-ms.pdf\n",
      "Failed to download https://www.newhaven.edu/_resources/documents/admissions/international/faqs/defer/admission-deferral-form-international.pdf - Response code: 200\n",
      "Successfully downloaded https://www.newhaven.edu/_resources/documents/admissions/international/graduate/grad-letter-of-recommendation%20.pdf\n",
      "Successfully downloaded https://www.newhaven.edu/_resources/documents/admissions/international/immigration-services/advisors-approval-form.pdf\n",
      "Successfully downloaded https://www.newhaven.edu/_resources/documents/admissions/international/immigration-services/international-student-handbook.pdf\n",
      "Successfully downloaded https://www.newhaven.edu/_resources/documents/admissions/international/immigration-services/international-student-pre-arrival-guide.pdf\n",
      "Successfully downloaded https://www.newhaven.edu/_resources/documents/admissions/international/immigration-services/opt-handbook.pdf\n",
      "Successfully downloaded https://www.newhaven.edu/_resources/documents/admissions/international/immigration-services/STEM-extension-info-session.pdf\n",
      "Successfully downloaded https://www.newhaven.edu/_resources/documents/admissions/international/prearrival/documents/medical-info-health-examination-report.pdf\n",
      "Successfully downloaded https://www.newhaven.edu/_resources/documents/admissions/international/prearrival/i20/international-undergraduate-financial-statement.pdf\n",
      "Successfully downloaded https://www.newhaven.edu/_resources/documents/admissions/international/prearrival/i20/ME-Big-Data-International-Financial-Statement.pdf\n",
      "Successfully downloaded https://www.newhaven.edu/_resources/documents/admissions/international/programs/academic-english-preparatory-program.pdf\n",
      "Successfully downloaded https://www.newhaven.edu/_resources/documents/admissions/international/programs/academic-preparatory-program-daily-schedule.pdf\n",
      "Successfully downloaded https://www.newhaven.edu/_resources/documents/admissions/international/programs/AEPPHindiTranslation.pdf\n",
      "Successfully downloaded https://www.newhaven.edu/_resources/documents/admissions/international/programs/AEPPSpanishTranslation.pdf\n",
      "Successfully downloaded https://www.newhaven.edu/_resources/documents/admissions/international/programs/AEPPWebisteArabicTranslation.pdf\n",
      "Successfully downloaded https://www.newhaven.edu/_resources/documents/admissions/international/programs/AEPPWebsiteChineseTranslation.pdf\n",
      "Successfully downloaded https://www.newhaven.edu/_resources/documents/admissions/international/programs/AEPPWebsiteThaiTranslation.pdf\n",
      "Successfully downloaded https://www.newhaven.edu/_resources/documents/admissions/international/programs/graduate-international-viewbook.pdf\n",
      "Successfully downloaded https://www.newhaven.edu/_resources/documents/admissions/international/programs/intl-student-handbook.pdf\n",
      "Successfully downloaded https://www.newhaven.edu/_resources/documents/admissions/international/programs/grad-international/grad-school-online-letter-of-recommendation.pdf\n",
      "Successfully downloaded https://www.newhaven.edu/_resources/documents/admissions/international/programs/grad-international/International-Graduate-Financial-Statement.pdf\n",
      "Successfully downloaded https://www.newhaven.edu/_resources/documents/admissions/international/tuition/Financial-Statement-International-Students-Undergraduate.pdf\n",
      "Successfully downloaded https://www.newhaven.edu/_resources/documents/admissions/international/tuition/Financial-Statement-of-International-Students-Graduate.pdf\n",
      "Successfully downloaded https://www.newhaven.edu/_resources/documents/admissions/international/tuition/Financial-Statement-of-International-Students-Undergraduate.pdf\n",
      "Successfully downloaded https://www.newhaven.edu/_resources/documents/admissions/international/tuition/ms-data-science-international-financial-statement.pdf\n",
      "Successfully downloaded https://www.newhaven.edu/_resources/documents/admissions/international/viewbook/international-viewbook-ug.pdf\n",
      "Successfully downloaded https://www.newhaven.edu/_resources/documents/admissions/undergraduate/international/financial-statement-of-international-students-aepp.pdf\n",
      "Successfully downloaded https://www.newhaven.edu/_resources/documents/admissions/undergraduate/international/financial-statement-of-international-students-undergraduate.pdf\n",
      "Successfully downloaded https://www.newhaven.edu/_resources/documents/admissions/undergraduate/international/i20-information-aepp.pdf\n",
      "Successfully downloaded https://www.newhaven.edu/_resources/documents/admissions/undergraduate/international/i20-information.pdf\n",
      "Successfully downloaded https://www.newhaven.edu/_resources/documents/admissions/undergraduate/international/sevis-transfer.pdf\n",
      "Successfully downloaded https://www.newhaven.edu/_resources/documents/admissions/undergraduate/salary-data/international-affairs-ba.pdf\n",
      "Successfully downloaded https://www.newhaven.edu/_resources/documents/admissions/undergraduate/salary-data/international-business-bs.pdf\n",
      "Successfully downloaded https://www.newhaven.edu/_resources/documents/business/center-for-family-business/cfb-library/CFB.pdf\n",
      "Successfully downloaded https://www.newhaven.edu/_resources/documents/business/programs/graduate/business-analytics/business-analytics-ms-course.pdf\n",
      "Successfully downloaded https://www.newhaven.edu/_resources/documents/business/programs/undergraduate/esports/esports-courses.pdf\n",
      "Successfully downloaded https://www.newhaven.edu/_resources/documents/engineering/kern-entrepreneurial-engineering-network/Course_Map.pdf\n",
      "Successfully downloaded https://www.newhaven.edu/_resources/documents/engineering/kern-entrepreneurial-engineering-network/foundations-of-online-development-course.pdf\n",
      "Successfully downloaded https://www.newhaven.edu/_resources/documents/health-sciences/undergraduate-programs/nutrition/nutrition-course-sequence.pdf\n",
      "Successfully downloaded https://www.newhaven.edu/_resources/documents/library/general/newsletters/fall2005newsletter.pdf\n",
      "Successfully downloaded https://www.newhaven.edu/_resources/documents/library/general/newsletters/fall2006newsletter.pdf\n",
      "Successfully downloaded https://www.newhaven.edu/_resources/documents/library/general/newsletters/fall2007newsletter.pdf\n",
      "Successfully downloaded https://www.newhaven.edu/_resources/documents/library/general/newsletters/fall2008newsletter.pdf\n",
      "Successfully downloaded https://www.newhaven.edu/_resources/documents/library/general/newsletters/fall2009newsletter.pdf\n",
      "Successfully downloaded https://www.newhaven.edu/_resources/documents/library/general/newsletters/fall2010newsletter.pdf\n",
      "Successfully downloaded https://www.newhaven.edu/_resources/documents/library/general/newsletters/fall2011newsletter.pdf\n",
      "Successfully downloaded https://www.newhaven.edu/_resources/documents/library/general/newsletters/fall2012newsletter.pdf\n",
      "Successfully downloaded https://www.newhaven.edu/_resources/documents/library/general/newsletters/fall2013newsletter.pdf\n",
      "Successfully downloaded https://www.newhaven.edu/_resources/documents/library/general/newsletters/fall2014newsletter.pdf\n",
      "Successfully downloaded https://www.newhaven.edu/_resources/documents/library/general/newsletters/fall2015newsletter.pdf\n",
      "Successfully downloaded https://www.newhaven.edu/_resources/documents/library/general/newsletters/fall2016newsletter.pdf\n",
      "Successfully downloaded https://www.newhaven.edu/_resources/documents/library/general/newsletters/fall-2019-newsletter.pdf\n"
     ]
    },
    {
     "name": "stdout",
     "output_type": "stream",
     "text": [
      "Successfully downloaded https://www.newhaven.edu/_resources/documents/library/general/newsletters/fall-newsletter-2018.pdf\n",
      "Successfully downloaded https://www.newhaven.edu/_resources/documents/library/general/newsletters/spring2006newsletter.pdf\n",
      "Successfully downloaded https://www.newhaven.edu/_resources/documents/library/general/newsletters/spring2008newsletter.pdf\n",
      "Successfully downloaded https://www.newhaven.edu/_resources/documents/library/general/newsletters/spring2009newsletter.pdf\n",
      "Successfully downloaded https://www.newhaven.edu/_resources/documents/library/general/newsletters/spring2010newsletter.pdf\n",
      "Successfully downloaded https://www.newhaven.edu/_resources/documents/library/general/newsletters/spring2011newsletter.pdf\n",
      "Successfully downloaded https://www.newhaven.edu/_resources/documents/library/general/newsletters/spring2012newsletter.pdf\n",
      "Successfully downloaded https://www.newhaven.edu/_resources/documents/library/general/newsletters/spring2013newsletter.pdf\n",
      "Successfully downloaded https://www.newhaven.edu/_resources/documents/library/general/newsletters/spring2014newsletter.pdf\n",
      "Successfully downloaded https://www.newhaven.edu/_resources/documents/library/general/newsletters/spring2015newsletter.pdf\n",
      "Successfully downloaded https://www.newhaven.edu/_resources/documents/library/general/newsletters/spring2016newsletter.pdf\n",
      "Successfully downloaded https://www.newhaven.edu/_resources/documents/library/general/newsletters/spring2017newsletter.pdf\n",
      "Successfully downloaded https://www.newhaven.edu/_resources/documents/library/general/newsletters/spring-2018-newsletter.pdf\n",
      "Successfully downloaded https://www.newhaven.edu/_resources/documents/library/general/newsletters/spring-2020-newsletter.pdf\n",
      "Successfully downloaded https://www.newhaven.edu/_resources/documents/library/general/newsletters/spring-newsletter-2019.pdf\n",
      "Successfully downloaded https://www.newhaven.edu/_resources/documents/library/specialcollections/rkwolf.pdf\n",
      "Successfully downloaded https://www.newhaven.edu/_resources/documents/library/virtual-exhibits/centennial-exhibit-engineering.pdf\n",
      "Successfully downloaded https://www.newhaven.edu/_resources/documents/library/virtual-exhibits/centennial-exhibit-henry-lee-college.pdf\n",
      "Successfully downloaded https://www.newhaven.edu/_resources/documents/library/virtual-exhibits/centennial-exhibit-pompea-business.pdf\n",
      "Successfully downloaded https://www.newhaven.edu/_resources/documents/newstudents/undergraduate/registration-guides/international-development-diplomacy-registration-guide-2019.pdf\n",
      "Successfully downloaded https://www.newhaven.edu/_resources/documents/student-life/career-development/accessing-charger-link.pdf\n",
      "Successfully downloaded https://www.newhaven.edu/_resources/documents/student-life/career-development/cybersecurity-tech-expo-flyer.pdf\n",
      "Successfully downloaded https://www.newhaven.edu/_resources/documents/student-life/career-development/employment-outcomes-report-2019.pdf\n",
      "Successfully downloaded https://www.newhaven.edu/_resources/documents/student-life/career-development/employment-outcomes-report-2020.pdf\n",
      "Successfully downloaded https://www.newhaven.edu/_resources/documents/student-life/career-development/employment-outcomes-report-2021.pdf\n",
      "Successfully downloaded https://www.newhaven.edu/_resources/documents/student-life/career-development/employment-outcomes-report.pdf\n",
      "Successfully downloaded https://www.newhaven.edu/_resources/documents/student-life/career-development/job-posting-policy.pdf\n",
      "Successfully downloaded https://www.newhaven.edu/_resources/documents/student-life/counselingcenter/thriving-campus-student.pdf\n",
      "Successfully downloaded https://www.newhaven.edu/_resources/documents/student-life/international-services/international-student-handbook.pdf\n",
      "Successfully downloaded https://www.newhaven.edu/_resources/documents/student-life/international-services/international-student-pre-arrival-guide.pdf\n",
      "Successfully downloaded https://www.newhaven.edu/_resources/documents/student-life/international-services/iso-continuing-students-return-overseas-flyer.pdf\n",
      "Successfully downloaded https://www.newhaven.edu/_resources/documents/student-life/international-services/iso-sevp-guidance_flyer.pdf\n",
      "Successfully downloaded https://www.newhaven.edu/_resources/documents/student-life/international-services/opt-application-checklist.pdf\n",
      "Successfully downloaded https://www.newhaven.edu/_resources/documents/student-life/international-services/opt-request-form.pdf\n",
      "Successfully downloaded https://www.newhaven.edu/_resources/documents/student-life/international-services/sample-i-765.pdf\n",
      "Successfully downloaded https://www.newhaven.edu/_resources/documents/student-life/international-services/stem-opt-request-form.pdf\n",
      "Successfully downloaded https://www.newhaven.edu/_resources/documents/student-life/orientation/charlies-fast-pass-faqs.pdf\n",
      "Successfully downloaded https://www.newhaven.edu/_resources/documents/student-life/orientation/soar-presentations/soar-start-your-career-adventure.pdf\n",
      "Successfully downloaded https://www.newhaven.edu/_resources/documents/student-life/orientation/soar-presentations/tagliatela-college-engineering.pdf\n"
     ]
    }
   ],
   "source": [
    "for url in pdf_urls:\n",
    "    download_pdf(url, folder=\"PDFs\")"
   ]
  },
  {
   "cell_type": "code",
   "execution_count": 66,
   "id": "e61e3d9d",
   "metadata": {
    "scrolled": false
   },
   "outputs": [
    {
     "name": "stdout",
     "output_type": "stream",
     "text": [
      "C:\\Users\\ssetr\\Desktop\\Capstone\\PDFs\\00139700_HEERF_Q3202_070122.pdf\n",
      "00139700_HEERF_Q3202_070122.pdf\n"
     ]
    },
    {
     "ename": "KeyError",
     "evalue": "'00139700_HEERF_Q3202_070122.pdf'",
     "output_type": "error",
     "traceback": [
      "\u001b[1;31m---------------------------------------------------------------------------\u001b[0m",
      "\u001b[1;31mKeyError\u001b[0m                                  Traceback (most recent call last)",
      "Input \u001b[1;32mIn [66]\u001b[0m, in \u001b[0;36m<cell line: 1>\u001b[1;34m()\u001b[0m\n\u001b[1;32m----> 1\u001b[0m pdf_data \u001b[38;5;241m=\u001b[39m \u001b[43mloadPDFData\u001b[49m\u001b[43m(\u001b[49m\u001b[43m)\u001b[49m\n",
      "Input \u001b[1;32mIn [65]\u001b[0m, in \u001b[0;36mloadPDFData\u001b[1;34m()\u001b[0m\n\u001b[0;32m     11\u001b[0m         source \u001b[38;5;241m=\u001b[39m page\u001b[38;5;241m.\u001b[39mmetadata[\u001b[38;5;124m'\u001b[39m\u001b[38;5;124msource\u001b[39m\u001b[38;5;124m'\u001b[39m]\u001b[38;5;241m.\u001b[39msplit(\u001b[38;5;124m'\u001b[39m\u001b[38;5;130;01m\\\\\u001b[39;00m\u001b[38;5;124m'\u001b[39m)[\u001b[38;5;241m-\u001b[39m\u001b[38;5;241m1\u001b[39m]\n\u001b[0;32m     12\u001b[0m         \u001b[38;5;28mprint\u001b[39m(source)\n\u001b[1;32m---> 13\u001b[0m         page\u001b[38;5;241m.\u001b[39mmetadata[\u001b[38;5;124m'\u001b[39m\u001b[38;5;124msource\u001b[39m\u001b[38;5;124m'\u001b[39m] \u001b[38;5;241m=\u001b[39m \u001b[43murl_mapping\u001b[49m\u001b[43m[\u001b[49m\u001b[43msource\u001b[49m\u001b[43m]\u001b[49m\n\u001b[0;32m     14\u001b[0m     pdf_data\u001b[38;5;241m.\u001b[39mextend(pages)\n\u001b[0;32m     15\u001b[0m \u001b[38;5;28mprint\u001b[39m(\u001b[38;5;124m\"\u001b[39m\u001b[38;5;124mPDF Data Loaded successfully\u001b[39m\u001b[38;5;124m\"\u001b[39m)\n",
      "\u001b[1;31mKeyError\u001b[0m: '00139700_HEERF_Q3202_070122.pdf'"
     ]
    }
   ],
   "source": [
    "pdf_data = loadPDFData()"
   ]
  },
  {
   "cell_type": "code",
   "execution_count": 39,
   "id": "6b456625",
   "metadata": {},
   "outputs": [
    {
     "name": "stdout",
     "output_type": "stream",
     "text": [
      "An error occurred: asyncio.run() cannot be called from a running event loop\n"
     ]
    },
    {
     "name": "stderr",
     "output_type": "stream",
     "text": [
      "C:\\Users\\ssetr\\AppData\\Local\\Temp\\ipykernel_23704\\3262413682.py:8: RuntimeWarning: coroutine 'WebBaseLoader.fetch_all' was never awaited\n",
      "  print(f\"An error occurred: {e}\")\n",
      "RuntimeWarning: Enable tracemalloc to get the object allocation traceback\n"
     ]
    },
    {
     "ename": "UnboundLocalError",
     "evalue": "local variable 'docs' referenced before assignment",
     "output_type": "error",
     "traceback": [
      "\u001b[1;31m---------------------------------------------------------------------------\u001b[0m",
      "\u001b[1;31mUnboundLocalError\u001b[0m                         Traceback (most recent call last)",
      "Input \u001b[1;32mIn [39]\u001b[0m, in \u001b[0;36m<cell line: 1>\u001b[1;34m()\u001b[0m\n\u001b[1;32m----> 1\u001b[0m php_data \u001b[38;5;241m=\u001b[39m \u001b[43mloadDataFrmPhpUrls\u001b[49m\u001b[43m(\u001b[49m\u001b[43mphp_urls\u001b[49m\u001b[43m)\u001b[49m\n",
      "Input \u001b[1;32mIn [31]\u001b[0m, in \u001b[0;36mloadDataFrmPhpUrls\u001b[1;34m(php_urls)\u001b[0m\n\u001b[0;32m      7\u001b[0m \u001b[38;5;28;01mexcept\u001b[39;00m \u001b[38;5;167;01mException\u001b[39;00m \u001b[38;5;28;01mas\u001b[39;00m e:\n\u001b[0;32m      8\u001b[0m     \u001b[38;5;28mprint\u001b[39m(\u001b[38;5;124mf\u001b[39m\u001b[38;5;124m\"\u001b[39m\u001b[38;5;124mAn error occurred: \u001b[39m\u001b[38;5;132;01m{\u001b[39;00me\u001b[38;5;132;01m}\u001b[39;00m\u001b[38;5;124m\"\u001b[39m)\n\u001b[1;32m----> 9\u001b[0m \u001b[38;5;28;01mreturn\u001b[39;00m \u001b[43mdocs\u001b[49m\n",
      "\u001b[1;31mUnboundLocalError\u001b[0m: local variable 'docs' referenced before assignment"
     ]
    }
   ],
   "source": [
    "php_data = loadDataFrmPhpUrls(php_urls)"
   ]
  },
  {
   "cell_type": "code",
   "execution_count": 67,
   "id": "8837a770",
   "metadata": {},
   "outputs": [],
   "source": [
    "# final_data = []\n",
    "# final_data.extend(pdf_data)"
   ]
  },
  {
   "cell_type": "code",
   "execution_count": 68,
   "id": "a233864d",
   "metadata": {},
   "outputs": [
    {
     "data": {
      "text/plain": [
       "[]"
      ]
     },
     "execution_count": 68,
     "metadata": {},
     "output_type": "execute_result"
    }
   ],
   "source": [
    "# final_data"
   ]
  },
  {
   "cell_type": "code",
   "execution_count": 69,
   "id": "d37a948c",
   "metadata": {},
   "outputs": [
    {
     "name": "stdout",
     "output_type": "stream",
     "text": [
      "Splitting Data Done Successfully\n"
     ]
    }
   ],
   "source": [
    "# data = split_data_chunks(final_data)"
   ]
  },
  {
   "cell_type": "code",
   "execution_count": 70,
   "id": "88d5f49a",
   "metadata": {},
   "outputs": [
    {
     "data": {
      "text/plain": [
       "[]"
      ]
     },
     "execution_count": 70,
     "metadata": {},
     "output_type": "execute_result"
    }
   ],
   "source": [
    "# pdf_data"
   ]
  },
  {
   "cell_type": "code",
   "execution_count": 23,
   "id": "e030bfc6",
   "metadata": {},
   "outputs": [
    {
     "name": "stdout",
     "output_type": "stream",
     "text": [
      "1\n"
     ]
    }
   ],
   "source": [
    "# async def main():\n",
    "#     print(1)\n",
    "    \n",
    "# await main()"
   ]
  },
  {
   "cell_type": "code",
   "execution_count": null,
   "id": "3353464b",
   "metadata": {},
   "outputs": [],
   "source": []
  }
 ],
 "metadata": {
  "kernelspec": {
   "display_name": "Python 3 (ipykernel)",
   "language": "python",
   "name": "python3"
  },
  "language_info": {
   "codemirror_mode": {
    "name": "ipython",
    "version": 3
   },
   "file_extension": ".py",
   "mimetype": "text/x-python",
   "name": "python",
   "nbconvert_exporter": "python",
   "pygments_lexer": "ipython3",
   "version": "3.10.11"
  }
 },
 "nbformat": 4,
 "nbformat_minor": 5
}
